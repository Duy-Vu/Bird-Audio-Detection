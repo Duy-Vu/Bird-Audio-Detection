{
  "nbformat": 4,
  "nbformat_minor": 0,
  "metadata": {
    "colab": {
      "name": "Assignment_2_model.ipynb",
      "provenance": [],
      "collapsed_sections": []
    },
    "kernelspec": {
      "name": "python3",
      "display_name": "Python 3"
    },
    "accelerator": "GPU"
  },
  "cells": [
    {
      "cell_type": "code",
      "metadata": {
        "colab": {
          "base_uri": "https://localhost:8080/"
        },
        "id": "qlMtslT1bsgn",
        "outputId": "118a1ac7-3538-4f77-e4ab-15ddffcfb69f"
      },
      "source": [
        "from google.colab import drive\n",
        "drive.mount('/gdrive')\n",
        "\n",
        "%cd /gdrive/MyDrive"
      ],
      "execution_count": null,
      "outputs": [
        {
          "output_type": "stream",
          "text": [
            "Mounted at /gdrive\n",
            "/gdrive/MyDrive\n"
          ],
          "name": "stdout"
        }
      ]
    },
    {
      "cell_type": "code",
      "metadata": {
        "id": "VchpM8adatz4"
      },
      "source": [
        "import numpy as np\n",
        "import librosa\n",
        "import librosa.display\n",
        "import matplotlib.pyplot as plt\n",
        "\n",
        "from sklearn.model_selection import train_test_split\n",
        "from sklearn.model_selection import StratifiedShuffleSplit\n",
        "from sklearn.preprocessing import MinMaxScaler, StandardScaler\n",
        "\n",
        "import keras  \n",
        "import tensorflow as tf\n",
        "from tensorflow.keras import layers\n",
        "from tensorflow.keras.models import Model\n",
        "from tensorflow.keras import Sequential\n",
        "from tensorflow.keras.layers import TimeDistributed, LayerNormalization, MaxPooling1D, MaxPooling2D, Flatten, Dense, Dropout, Activation, Conv2D, GlobalMaxPooling2D, LSTM, Permute, Reshape\n",
        "from tensorflow.compat.v1.keras.layers import CuDNNLSTM, GRU\n",
        "from tensorflow.keras.callbacks import ModelCheckpoint\n",
        "\n",
        "from tensorflow.keras.optimizers import Adam\n",
        "from tensorflow.keras.regularizers import l1, l2\n",
        "\n",
        "from tensorflow.keras.metrics import AUC\n",
        "from sklearn.metrics import roc_auc_score"
      ],
      "execution_count": null,
      "outputs": []
    },
    {
      "cell_type": "code",
      "metadata": {
        "id": "KYfOQD23bsgo",
        "colab": {
          "base_uri": "https://localhost:8080/"
        },
        "outputId": "245ec32f-50f6-4351-a257-3b254aa81439"
      },
      "source": [
        "X1 = np.load('X_warblrb.npy')\n",
        "X2 = np.load('X_ff.npy')\n",
        "#X3 =  np.load('X_extra_pos.npy')\n",
        "X = np.concatenate((X1, X2), axis=0)\n",
        "\n",
        "y1 = np.load('y_warblrb.npy')\n",
        "y2 = np.load('y_ff.npy')\n",
        "#y3 = np.load('y_extra_pos.npy')\n",
        "y = np.concatenate((y1, y2), axis=0)\n",
        "\n",
        "print('Shape X1: ', X1.shape)\n",
        "print('Shape X2: ', X2.shape)\n",
        "print('Shape X3: ', X3.shape)\n",
        "print('Shape X', X.shape)\n",
        "print('Shape y1: ', y1.shape)\n",
        "print('Shape y2: ', y2.shape)\n",
        "print('Shape y3: ', y3.shape)\n",
        "print('Shape y: ', y.shape)"
      ],
      "execution_count": null,
      "outputs": [
        {
          "output_type": "stream",
          "text": [
            "Shape X1:  (3177, 40, 501)\n",
            "Shape X2:  (7690, 40, 501)\n",
            "Shape X3:  (578, 40, 501)\n",
            "Shape X (11445, 40, 501)\n",
            "Shape y1:  (3177,)\n",
            "Shape y2:  (7690,)\n",
            "Shape y3:  (578,)\n",
            "Shape y:  (11445,)\n"
          ],
          "name": "stdout"
        }
      ]
    },
    {
      "cell_type": "code",
      "metadata": {
        "colab": {
          "base_uri": "https://localhost:8080/",
          "height": 282
        },
        "id": "8L-dUx4tCHbA",
        "outputId": "bf728eaf-1ea9-4d74-d90f-58c3f7d82f58"
      },
      "source": [
        "plt.hist(y, bins=2)"
      ],
      "execution_count": null,
      "outputs": [
        {
          "output_type": "execute_result",
          "data": {
            "text/plain": [
              "(array([6506., 4939.]), array([0. , 0.5, 1. ]), <a list of 2 Patch objects>)"
            ]
          },
          "metadata": {
            "tags": []
          },
          "execution_count": 4
        },
        {
          "output_type": "display_data",
          "data": {
            "image/png": "[encoded data removed]",
            "text/plain": [
              "<Figure size 432x288 with 1 Axes>"
            ]
          },
          "metadata": {
            "tags": [],
            "needs_background": "light"
          }
        }
      ]
    },
    {
      "cell_type": "code",
      "metadata": {
        "colab": {
          "base_uri": "https://localhost:8080/"
        },
        "id": "-zOnte-m0WL-",
        "outputId": "0b298b13-dfea-4692-c54a-b9f43be9018a"
      },
      "source": [
        "sss = StratifiedShuffleSplit(n_splits=5, test_size=0.2, random_state=12)\n",
        "for train_ind, val_ind in sss.split(X, y):\n",
        "    print(\"TRAIN:\", train_ind, \"VAL:\", val_ind)\n",
        "    X_train, X_val = X[train_ind], X[val_ind]\n",
        "    y_train, y_val = y[train_ind], y[val_ind]\n",
        "\n",
        "print(X_train.shape, X_val.shape)"
      ],
      "execution_count": null,
      "outputs": [
        {
          "output_type": "stream",
          "text": [
            "TRAIN: [ 3441 11340   785 ...  7675 10161 10156] VAL: [11359 10222  7213 ...  4960  7391  3473]\n",
            "TRAIN: [ 9555  2668  1173 ... 11441  8537  3755] VAL: [6999 3590 5822 ... 3037 3360 7430]\n",
            "TRAIN: [7006 9260   94 ... 9521 6396 4084] VAL: [5508 3482 8104 ... 2437 7973 7950]\n",
            "TRAIN: [5361 1296 4354 ... 8040 1075 7601] VAL: [8796 4710 9432 ... 2073 8426 5419]\n",
            "TRAIN: [6914 7176 4999 ...  285 8621 6578] VAL: [3480  200 4415 ... 3820 1139  819]\n",
            "(9156, 40, 501) (2289, 40, 501)\n"
          ],
          "name": "stdout"
        }
      ]
    },
    {
      "cell_type": "markdown",
      "metadata": {
        "id": "K6I77AFYgbJr"
      },
      "source": [
        "# CNN\n"
      ]
    },
    {
      "cell_type": "markdown",
      "metadata": {
        "id": "Q8iid9Y_jCaF"
      },
      "source": [
        "## 2D CNN\n"
      ]
    },
    {
      "cell_type": "code",
      "metadata": {
        "id": "jtpvFiR8glOB"
      },
      "source": [
        "# Scale data to range 0 to 1\n",
        "\n",
        "scaler = MinMaxScaler()\n",
        "\n",
        "scaled_X_train_flatten = scaler.fit_transform(X_train_flatten)\n",
        "scaled_X_train_flatten = np.reshape(scaled_X_train_flatten, (len(X_train), 40, 501))\n",
        "\n",
        "scaled_X_test_flatten = scaler.transform(X_test_flatten)\n",
        "scaled_X_test_flatten = np.reshape(scaled_X_test_flatten, (len(X_test), 40, 501))"
      ],
      "execution_count": null,
      "outputs": []
    },
    {
      "cell_type": "code",
      "metadata": {
        "colab": {
          "base_uri": "https://localhost:8080/"
        },
        "id": "uVMjprQEedtQ",
        "outputId": "7489c5a6-f65f-44b2-f1b8-8a737b1887d3"
      },
      "source": [
        "conv2D = Sequential([Conv2D(filters=32,kernel_size=(3,3), activation='relu', padding='same', input_shape=(40, 501, 1)), \n",
        "                     MaxPooling2D(pool_size=(2,2), padding='same'), \n",
        "                     \n",
        "                     Conv2D(64, kernel_size=(3,3), activation='relu', padding='same'), \n",
        "                     MaxPooling2D(pool_size=(2,2), padding='same'), \n",
        "                     \n",
        "                     Conv2D(128, kernel_size=(3,3), activation='relu', padding='same',activity_regularizer=l1(0.01)),\n",
        "                     MaxPooling2D(pool_size=(2,2), padding='same'), \n",
        "                     \n",
        "                     Conv2D(256, kernel_size=(3,3), activation='relu', padding='same'), \n",
        "                     MaxPooling2D(pool_size=(2,2), padding='same'),\n",
        "\n",
        "                     Dropout(0.2),\n",
        "                     Flatten(),\n",
        "                     Dense(16, activity_regularizer=l1(0)),\n",
        "                     Dense(1, activation='sigmoid')])\n",
        "\n",
        "conv2D.compile(optimizer='adam', loss='binary_crossentropy', metrics=[[tf.keras.metrics.AUC()]])\n",
        "conv2D.summary()"
      ],
      "execution_count": null,
      "outputs": [
        {
          "output_type": "stream",
          "text": [
            "Model: \"sequential_14\"\n",
            "_________________________________________________________________\n",
            "Layer (type)                 Output Shape              Param #   \n",
            "=================================================================\n",
            "conv2d_40 (Conv2D)           (None, 40, 501, 32)       320       \n",
            "_________________________________________________________________\n",
            "max_pooling2d_44 (MaxPooling (None, 20, 251, 32)       0         \n",
            "_________________________________________________________________\n",
            "conv2d_41 (Conv2D)           (None, 20, 251, 64)       18496     \n",
            "_________________________________________________________________\n",
            "max_pooling2d_45 (MaxPooling (None, 10, 126, 64)       0         \n",
            "_________________________________________________________________\n",
            "conv2d_42 (Conv2D)           (None, 10, 126, 128)      73856     \n",
            "_________________________________________________________________\n",
            "max_pooling2d_46 (MaxPooling (None, 5, 63, 128)        0         \n",
            "_________________________________________________________________\n",
            "conv2d_43 (Conv2D)           (None, 5, 63, 256)        295168    \n",
            "_________________________________________________________________\n",
            "max_pooling2d_47 (MaxPooling (None, 3, 32, 256)        0         \n",
            "_________________________________________________________________\n",
            "dropout_6 (Dropout)          (None, 3, 32, 256)        0         \n",
            "_________________________________________________________________\n",
            "flatten_8 (Flatten)          (None, 24576)             0         \n",
            "_________________________________________________________________\n",
            "dense_21 (Dense)             (None, 16)                393232    \n",
            "_________________________________________________________________\n",
            "dense_22 (Dense)             (None, 1)                 17        \n",
            "=================================================================\n",
            "Total params: 781,089\n",
            "Trainable params: 781,089\n",
            "Non-trainable params: 0\n",
            "_________________________________________________________________\n"
          ],
          "name": "stdout"
        }
      ]
    },
    {
      "cell_type": "markdown",
      "metadata": {
        "id": "zT0hxD8LjO7I"
      },
      "source": [
        "## conv1D"
      ]
    },
    {
      "cell_type": "code",
      "metadata": {
        "colab": {
          "base_uri": "https://localhost:8080/"
        },
        "id": "cs0Ny_zOgdyZ",
        "outputId": "361c6eb2-ada6-4c7e-b952-bf1db7734cee"
      },
      "source": [
        "conv1D = Sequential([Conv2D(kernel_size=3, filters=32, padding='same', activation='relu', input_shape=(40, 501, 1)),\n",
        "                   MaxPooling2D(),\n",
        "                   Conv2D(kernel_size=3, filters=32, padding='same', activation='relu'),\n",
        "                   MaxPooling2D(),\n",
        "                   Flatten(),\n",
        "                   Dense(15, activation='softmax')])\n",
        "\n",
        "conv1D.compile(optimizer='adam', loss='categorical_crossentropy', metrics=[[tf.keras.metrics.AUC()]])\n",
        "conv1D.summary()"
      ],
      "execution_count": null,
      "outputs": [
        {
          "output_type": "stream",
          "text": [
            "Model: \"sequential_19\"\n",
            "_________________________________________________________________\n",
            "Layer (type)                 Output Shape              Param #   \n",
            "=================================================================\n",
            "conv2d_68 (Conv2D)           (None, 40, 501, 32)       320       \n",
            "_________________________________________________________________\n",
            "max_pooling2d_74 (MaxPooling (None, 20, 250, 32)       0         \n",
            "_________________________________________________________________\n",
            "conv2d_69 (Conv2D)           (None, 20, 250, 32)       9248      \n",
            "_________________________________________________________________\n",
            "max_pooling2d_75 (MaxPooling (None, 10, 125, 32)       0         \n",
            "_________________________________________________________________\n",
            "flatten_13 (Flatten)         (None, 40000)             0         \n",
            "_________________________________________________________________\n",
            "dense_27 (Dense)             (None, 15)                600015    \n",
            "=================================================================\n",
            "Total params: 609,583\n",
            "Trainable params: 609,583\n",
            "Non-trainable params: 0\n",
            "_________________________________________________________________\n"
          ],
          "name": "stdout"
        }
      ]
    },
    {
      "cell_type": "markdown",
      "metadata": {
        "id": "a_COAGEHgl7x"
      },
      "source": [
        "# RNN\n"
      ]
    },
    {
      "cell_type": "code",
      "metadata": {
        "colab": {
          "base_uri": "https://localhost:8080/"
        },
        "id": "sliWO69sgqAt",
        "outputId": "8d0d43ee-917c-4ca2-a8e6-815284bb20ee"
      },
      "source": [
        "RNN = Sequential([LSTM(32, return_sequences=True, input_shape=(501, 40)),\n",
        "                  LSTM(64, return_sequences=True),\n",
        "                  Flatten(),\n",
        "                  Dense(128),\n",
        "                  Dense(1, activation='sigmoid')])\n",
        "\n",
        "RNN.compile(optimizer='adam', loss='binary_crossentropy', metrics=['accuracy'])\n",
        "RNN.summary()"
      ],
      "execution_count": null,
      "outputs": [
        {
          "output_type": "stream",
          "text": [
            "Model: \"sequential_7\"\n",
            "_________________________________________________________________\n",
            "Layer (type)                 Output Shape              Param #   \n",
            "=================================================================\n",
            "lstm_3 (LSTM)                (None, 501, 32)           9344      \n",
            "_________________________________________________________________\n",
            "lstm_4 (LSTM)                (None, 501, 64)           24832     \n",
            "_________________________________________________________________\n",
            "flatten_7 (Flatten)          (None, 32064)             0         \n",
            "_________________________________________________________________\n",
            "dense_7 (Dense)              (None, 16)                513040    \n",
            "_________________________________________________________________\n",
            "dense_8 (Dense)              (None, 1)                 17        \n",
            "=================================================================\n",
            "Total params: 547,233\n",
            "Trainable params: 547,233\n",
            "Non-trainable params: 0\n",
            "_________________________________________________________________\n"
          ],
          "name": "stdout"
        }
      ]
    },
    {
      "cell_type": "code",
      "metadata": {
        "id": "rMADO2KMfJv0"
      },
      "source": [
        "# Scale with mean 0 and standard deviation 1\n",
        "standard_scaler = StandardScaler()\n",
        "\n",
        "scaled_X_train_flatten = standard_scaler.fit_transform(X_train_flatten)\n",
        "scaled_X_train_flatten = np.reshape(scaled_X_train_flatten, (len(X_train), 40, 501))\n",
        "\n",
        "scaled_X_test_flatten = standard_scaler.transform(X_test_flatten)\n",
        "scaled_X_test_flatten = np.reshape(scaled_X_test_flatten, (len(X_test), 40, 501))\n",
        "\n",
        "RNN.fit(X_mix.swapaxes(1,2), y_train_onehot, validation_split=0.2, epochs=20)\n",
        "test_loss, test_acc = RNN.evaluate(scaled_X_test_flatten.swapaxes(1,2), y_test_onehot)\n",
        "print(\"Accuracy with RNN is\", test_acc)"
      ],
      "execution_count": null,
      "outputs": []
    },
    {
      "cell_type": "markdown",
      "metadata": {
        "id": "8ezcFEZHlLdl"
      },
      "source": [
        "# CRNN\n"
      ]
    },
    {
      "cell_type": "code",
      "metadata": {
        "id": "slsL4IGXgVdQ"
      },
      "source": [
        "CRNN = Sequential([Conv2D(filters=96, kernel_size=(5, 5), activation='relu', padding='same', input_shape=(40, 501, 1)),\n",
        "                   MaxPooling2D(pool_size=(5, 1), padding='same'), \n",
        "\n",
        "                   Conv2D(96, kernel_size=(5, 5), activation='relu', padding='same'), \n",
        "                   MaxPooling2D(pool_size=(2, 1), padding='same'),\n",
        "\n",
        "                   Conv2D(96, kernel_size=(5, 5), activation='relu', padding='same'), \n",
        "                   MaxPooling2D(pool_size=(2, 1), padding='same'),\n",
        "                   \n",
        "                   Conv2D(96, kernel_size=(5, 5), activation='relu', padding='same'), \n",
        "                   MaxPooling2D(pool_size=(2, 1), padding='same'),\n",
        "\n",
        "                   Reshape((501, 96)),\n",
        "                   GRU(96, return_sequences=True),\n",
        "                   GRU(96, return_sequences=True),\n",
        "\n",
        "                   MaxPooling1D(pool_size=501, strides=1),\n",
        "                   Flatten(),\n",
        "                   # Dropout(0.25),\n",
        "                   Dense(1, activation='sigmoid')])  # , activity_regularizer=l1(1e-3)\n",
        "\n",
        "opt = Adam(learning_rate= 1e-3)\n",
        "CRNN.compile(opt, loss='binary_crossentropy', metrics=[tf.keras.metrics.AUC()])\n",
        "CRNN.summary()"
      ],
      "execution_count": null,
      "outputs": []
    },
    {
      "cell_type": "code",
      "metadata": {
        "colab": {
          "base_uri": "https://localhost:8080/"
        },
        "id": "KGv_xiq08KuW",
        "outputId": "0d1d57ba-afdf-4c1e-ceb1-e2ed2f4eb733"
      },
      "source": [
        "# Scale data to range 0 to 1\n",
        "scaler = MinMaxScaler()\n",
        "\n",
        "scaled_X_train_flatten = scaler.fit_transform( np.reshape(X_train, (len(X_train), 40*501)) )\n",
        "scaled_X_train = np.reshape(scaled_X_train_flatten, (len(X_train), 40, 501))\n",
        "\n",
        "scaled_X_val_flatten = scaler.transform( np.reshape(X_val, (len(X_val), 40*501)) )\n",
        "scaled_X_val = np.reshape(scaled_X_val_flatten, (len(X_val), 40, 501))\n",
        "\n",
        "print(scaled_X_train.shape, scaled_X_val.shape)"
      ],
      "execution_count": null,
      "outputs": [
        {
          "output_type": "stream",
          "text": [
            "(9156, 40, 501) (2289, 40, 501)\n"
          ],
          "name": "stdout"
        }
      ]
    },
    {
      "cell_type": "code",
      "metadata": {
        "id": "ZpDphsn5JQTq"
      },
      "source": [
        "# define the checkpoint\n",
        "filepath = \"CRNN_model.h5\"\n",
        "checkpoint = ModelCheckpoint(filepath, monitor='loss', verbose=1, save_best_only=True, mode='min')\n",
        "callbacks_list = [checkpoint]"
      ],
      "execution_count": null,
      "outputs": []
    },
    {
      "cell_type": "code",
      "metadata": {
        "id": "ifLqsYpA8aJf"
      },
      "source": [
        "history = CRNN.fit(np.expand_dims(scaled_X_train, -1), y_train, validation_data=(np.expand_dims(scaled_X_val, -1), y_val), batch_size=64, epochs=23)"
      ],
      "execution_count": null,
      "outputs": []
    },
    {
      "cell_type": "markdown",
      "metadata": {
        "id": "D3gCrYQiaIde"
      },
      "source": [
        "- Highest val_auc is 0.948 after 23 epochs, training auc is 0.9658.\n",
        "- Stop at 20-25 epochs might be a good idea, val_auc is around 0.94-0.95, auc is around 0.96-0.97.\n",
        "- After 20-25 epochs, val_auc is fluctuating between 0.93 and 0.94, val_loss is fluctuating 0.30 and 0.37. Training auc is increasing monotically to 1 while training loss is decreasing to 0. => Overfitting\n",
        "- After 45 epochs, val_loss even increase to around 0.4\n",
        "- With dropout layer with rate 0.25 before the ouput layer, the auc and val_auc is 0.96 is around 0.965 to 0.940, loss and val_loss are 0.23 and 0.3-0.35.\n",
        "- With about new 500 data from test file, same model without any regularizationn, the val_auc and auc after 23 epochs are 0.95 and 0.97, val_loss and loss are 0.23 and 0.21.\n",
        "- After training for more than 30 epochs, the model starts to become overfitting again. One clear conclusion after trying to add more example is that it might not work since we may infer wrong labels to test data. One reason could also be the fact that we only add \"positive\" (prob > 0.999) test data to counter imbalance current dataset a bit more (Negative sample is more than positive 1500 samples), and this actually makes the model bias towards positive result.\n",
        "- One things we should try instead is cutting longer audio, e.x 12-14s, but since this task is quite tedious, so we choose the easier way (inferring test data)\n",
        "- Pre-emphasize training data help a lot since it didn't make the data change much in terms of acoustic, not only reduce noise of background. But since the test data has background noise as wind,... blending with birds, pre-emphasizing test data change the bird sounds' quality a lot. \n"
      ]
    },
    {
      "cell_type": "code",
      "metadata": {
        "colab": {
          "base_uri": "https://localhost:8080/",
          "height": 231
        },
        "id": "Tpbr71pZALjw",
        "outputId": "d69f5c7a-da97-459c-b741-58078c36e40b"
      },
      "source": [
        "plt.plot(history.history['auc'], label=\"auc\")\n",
        "plt.plot(history.history['val_auc'], label=\"val_auc\")\n",
        "plt.legend(loc=\"lower right\")\n",
        "plt.grid(\"on\")\n",
        "plt.show()\n",
        "\n",
        "plt.plot(history.history['loss'],label=\"loss\")\n",
        "plt.plot(history.history['val_loss'], label=\"val_loss\")\n",
        "plt.legend(loc=\"lower right\")\n",
        "plt.grid(\"on\")\n",
        "plt.show()"
      ],
      "execution_count": null,
      "outputs": [
        {
          "output_type": "error",
          "ename": "KeyError",
          "evalue": "ignored",
          "traceback": [
            "\u001b[0;31m---------------------------------------------------------------------------\u001b[0m",
            "\u001b[0;31mKeyError\u001b[0m                                  Traceback (most recent call last)",
            "\u001b[0;32m<ipython-input-14-43c0a28eefc7>\u001b[0m in \u001b[0;36m<module>\u001b[0;34m()\u001b[0m\n\u001b[0;32m----> 1\u001b[0;31m \u001b[0mplt\u001b[0m\u001b[0;34m.\u001b[0m\u001b[0mplot\u001b[0m\u001b[0;34m(\u001b[0m\u001b[0mhistory\u001b[0m\u001b[0;34m.\u001b[0m\u001b[0mhistory\u001b[0m\u001b[0;34m[\u001b[0m\u001b[0;34m'auc'\u001b[0m\u001b[0;34m]\u001b[0m\u001b[0;34m,\u001b[0m \u001b[0mlabel\u001b[0m\u001b[0;34m=\u001b[0m\u001b[0;34m\"auc\"\u001b[0m\u001b[0;34m)\u001b[0m\u001b[0;34m\u001b[0m\u001b[0;34m\u001b[0m\u001b[0m\n\u001b[0m\u001b[1;32m      2\u001b[0m \u001b[0mplt\u001b[0m\u001b[0;34m.\u001b[0m\u001b[0mplot\u001b[0m\u001b[0;34m(\u001b[0m\u001b[0mhistory\u001b[0m\u001b[0;34m.\u001b[0m\u001b[0mhistory\u001b[0m\u001b[0;34m[\u001b[0m\u001b[0;34m'val_auc'\u001b[0m\u001b[0;34m]\u001b[0m\u001b[0;34m,\u001b[0m \u001b[0mlabel\u001b[0m\u001b[0;34m=\u001b[0m\u001b[0;34m\"val_auc\"\u001b[0m\u001b[0;34m)\u001b[0m\u001b[0;34m\u001b[0m\u001b[0;34m\u001b[0m\u001b[0m\n\u001b[1;32m      3\u001b[0m \u001b[0mplt\u001b[0m\u001b[0;34m.\u001b[0m\u001b[0mlegend\u001b[0m\u001b[0;34m(\u001b[0m\u001b[0mloc\u001b[0m\u001b[0;34m=\u001b[0m\u001b[0;34m\"lower right\"\u001b[0m\u001b[0;34m)\u001b[0m\u001b[0;34m\u001b[0m\u001b[0;34m\u001b[0m\u001b[0m\n\u001b[1;32m      4\u001b[0m \u001b[0mplt\u001b[0m\u001b[0;34m.\u001b[0m\u001b[0mgrid\u001b[0m\u001b[0;34m(\u001b[0m\u001b[0;34m\"on\"\u001b[0m\u001b[0;34m)\u001b[0m\u001b[0;34m\u001b[0m\u001b[0;34m\u001b[0m\u001b[0m\n\u001b[1;32m      5\u001b[0m \u001b[0mplt\u001b[0m\u001b[0;34m.\u001b[0m\u001b[0mshow\u001b[0m\u001b[0;34m(\u001b[0m\u001b[0;34m)\u001b[0m\u001b[0;34m\u001b[0m\u001b[0;34m\u001b[0m\u001b[0m\n",
            "\u001b[0;31mKeyError\u001b[0m: 'auc'"
          ]
        }
      ]
    },
    {
      "cell_type": "markdown",
      "metadata": {
        "id": "4PBVdiz7wkoL"
      },
      "source": [
        "# Save model"
      ]
    },
    {
      "cell_type": "code",
      "metadata": {
        "colab": {
          "base_uri": "https://localhost:8080/"
        },
        "id": "daJa5WrlwexD",
        "outputId": "70be3692-8ef1-4980-bab5-25a31ff29783"
      },
      "source": [
        "# Serialize model to JSON\n",
        "model_json = loaded_model.to_json()\n",
        "with open(\"CRNN_model.json\", \"w\") as json_file:\n",
        "    json_file.write(model_json)\n",
        "\n",
        "# Serialize weights to HDF5\n",
        "loaded_model.save_weights(\"CRNN_weights.h5\")\n",
        "print(\"Saved model to disk\")"
      ],
      "execution_count": null,
      "outputs": [
        {
          "output_type": "stream",
          "text": [
            "Saved model to disk\n"
          ],
          "name": "stdout"
        }
      ]
    },
    {
      "cell_type": "markdown",
      "metadata": {
        "id": "2oVb_DVWwttH"
      },
      "source": [
        "# Load model"
      ]
    },
    {
      "cell_type": "code",
      "metadata": {
        "colab": {
          "base_uri": "https://localhost:8080/"
        },
        "id": "FHt7nhtCwaw_",
        "outputId": "4dc5af98-c38c-40fe-c5fb-db19f8cf8374"
      },
      "source": [
        "# Scale data to range 0 to 1\n",
        "scaler = MinMaxScaler()\n",
        "\n",
        "scaled_X_train_flatten = scaler.fit_transform( np.reshape(X_train, (len(X_train), 40*501)) )\n",
        "scaled_X_train = np.reshape(scaled_X_train_flatten, (len(X_train), 40, 501))\n",
        "\n",
        "scaled_X_val_flatten = scaler.transform( np.reshape(X_val, (len(X_val), 40*501)) )\n",
        "scaled_X_val = np.reshape(scaled_X_val_flatten, (len(X_val), 40, 501))\n",
        "\n",
        "print(scaled_X_train.shape, scaled_X_val.shape)"
      ],
      "execution_count": null,
      "outputs": [
        {
          "output_type": "stream",
          "text": [
            "(9156, 40, 501) (2289, 40, 501)\n"
          ],
          "name": "stdout"
        }
      ]
    },
    {
      "cell_type": "code",
      "metadata": {
        "colab": {
          "base_uri": "https://localhost:8080/"
        },
        "id": "lSoZqm0cwp5h",
        "outputId": "60c90c69-68ae-4e3e-ebb8-ea233be5c23c"
      },
      "source": [
        "from keras.models import model_from_json\n",
        "\n",
        "# Load json and create model\n",
        "json_file = open('CRNN_model.json', 'r')\n",
        "loaded_model_json = json_file.read()\n",
        "json_file.close()\n",
        "loaded_model = model_from_json(loaded_model_json)\n",
        "\n",
        "# Load weights into new model\n",
        "loaded_model.load_weights(\"CRNN_weights.h5\")\n",
        "\n",
        "#loaded_model.get_layer('dense_1').kernel_regularizer = l1(0.001) \n",
        "loaded_model.layers[-1].activity_regularizer = l1(0.001)\n",
        "\n",
        "opt = Adam(learning_rate= 1e-3)\n",
        "loaded_model.compile(opt, loss='binary_crossentropy', metrics=[tf.keras.metrics.AUC()])\n",
        "loaded_model.summary()\n",
        "print(\"Loaded model from disk\")\n",
        "\n",
        "history = loaded_model.fit(np.expand_dims(scaled_X_train, -1), y_train, validation_data=(np.expand_dims(scaled_X_val, -1), y_val), batch_size=64, epochs=2)"
      ],
      "execution_count": null,
      "outputs": [
        {
          "output_type": "stream",
          "text": [
            "WARNING:tensorflow:Layer gru_2 will not use cuDNN kernel since it doesn't meet the cuDNN kernel criteria. It will use generic GPU kernel as fallback when running on GPU\n",
            "WARNING:tensorflow:Layer gru_3 will not use cuDNN kernel since it doesn't meet the cuDNN kernel criteria. It will use generic GPU kernel as fallback when running on GPU\n",
            "Model: \"sequential\"\n",
            "_________________________________________________________________\n",
            "Layer (type)                 Output Shape              Param #   \n",
            "=================================================================\n",
            "conv2d_4 (Conv2D)            (None, 40, 501, 96)       2496      \n",
            "_________________________________________________________________\n",
            "max_pooling2d_4 (MaxPooling2 (None, 8, 501, 96)        0         \n",
            "_________________________________________________________________\n",
            "conv2d_5 (Conv2D)            (None, 8, 501, 96)        230496    \n",
            "_________________________________________________________________\n",
            "max_pooling2d_5 (MaxPooling2 (None, 4, 501, 96)        0         \n",
            "_________________________________________________________________\n",
            "conv2d_6 (Conv2D)            (None, 4, 501, 96)        230496    \n",
            "_________________________________________________________________\n",
            "max_pooling2d_6 (MaxPooling2 (None, 2, 501, 96)        0         \n",
            "_________________________________________________________________\n",
            "conv2d_7 (Conv2D)            (None, 2, 501, 96)        230496    \n",
            "_________________________________________________________________\n",
            "max_pooling2d_7 (MaxPooling2 (None, 1, 501, 96)        0         \n",
            "_________________________________________________________________\n",
            "reshape_1 (Reshape)          (None, 501, 96)           0         \n",
            "_________________________________________________________________\n",
            "gru_2 (GRU)                  (None, 501, 96)           55584     \n",
            "_________________________________________________________________\n",
            "gru_3 (GRU)                  (None, 501, 96)           55584     \n",
            "_________________________________________________________________\n",
            "max_pooling1d_1 (MaxPooling1 (None, 1, 96)             0         \n",
            "_________________________________________________________________\n",
            "flatten_1 (Flatten)          (None, 96)                0         \n",
            "_________________________________________________________________\n",
            "dense_1 (Dense)              (None, 1)                 97        \n",
            "=================================================================\n",
            "Total params: 805,249\n",
            "Trainable params: 805,249\n",
            "Non-trainable params: 0\n",
            "_________________________________________________________________\n",
            "Loaded model from disk\n",
            "Epoch 1/2\n",
            "144/144 [==============================] - 428s 3s/step - loss: 0.0952 - auc_3: 0.9934 - val_loss: 0.4078 - val_auc_3: 0.9361\n",
            "Epoch 2/2\n",
            "144/144 [==============================] - 424s 3s/step - loss: 0.0814 - auc_3: 0.9951 - val_loss: 0.4733 - val_auc_3: 0.9336\n"
          ],
          "name": "stdout"
        }
      ]
    },
    {
      "cell_type": "markdown",
      "metadata": {
        "id": "DvMnkkuRw-x4"
      },
      "source": [
        "# Evaluate loaded model on test data"
      ]
    },
    {
      "cell_type": "code",
      "metadata": {
        "id": "iZh10v9vqgEg"
      },
      "source": [
        "# Getting more RAM :))\n",
        "a = []\n",
        "while(1):\n",
        "    a.append('1')"
      ],
      "execution_count": null,
      "outputs": []
    },
    {
      "cell_type": "code",
      "metadata": {
        "colab": {
          "base_uri": "https://localhost:8080/"
        },
        "id": "5Wk6O5tFu-6P",
        "outputId": "7fd275dd-ebd3-4aae-d0eb-3cdfe9c7ab4c"
      },
      "source": [
        "X_test = np.load('X_test_emphasized.npy')\n",
        "print('Shape X_test: ', X_test.shape)\n",
        "\n",
        "scaled_X_test_flatten = scaler.transform( np.reshape(X_test, (len(X_test), 40*501)) )\n",
        "scaled_X_test = np.reshape(scaled_X_test_flatten, (len(X_test), 40, 501))\n",
        "print(scaled_X_test.shape)\n",
        "\n",
        "y_pred = loaded_model.predict(np.expand_dims(scaled_X_test, -1))\n",
        "np.save(\"prediction.npy\", y_pred)\n",
        "\n",
        "with open(\"colab_crnn_submission.csv\", \"w\") as fp: \n",
        "    fp.write(\"Id,Predicted\\n\") \n",
        "    for idx in range(4512): \n",
        "        fp.write(f\"{idx},{y_pred[idx][0]}\\n\") "
      ],
      "execution_count": null,
      "outputs": [
        {
          "output_type": "stream",
          "text": [
            "Shape X_test:  (4512, 40, 501)\n",
            "(4512, 40, 501)\n"
          ],
          "name": "stdout"
        }
      ]
    },
    {
      "cell_type": "code",
      "metadata": {
        "colab": {
          "base_uri": "https://localhost:8080/"
        },
        "id": "YVuZpTJVdYf-",
        "outputId": "3a963e55-d69d-4cd7-f472-7e091312694d"
      },
      "source": [
        "X_test_raw = np.load('X_test_raw.npy')\n",
        "print('Shape X_test: ', X_test_raw.shape)\n",
        "\n",
        "scaled_X_test_raw_flatten = scaler.transform( np.reshape(X_test_raw, (len(X_test_raw), 40*501)) )\n",
        "scaled_X_test_raw = np.reshape(scaled_X_test_raw_flatten, (len(X_test_raw), 40, 501))\n",
        "print(scaled_X_test_raw.shape)\n",
        "\n",
        "y_pred_raw = loaded_model.predict(np.expand_dims(scaled_X_test_raw, -1))\n",
        "np.save(\"prediction_raw.npy\", y_pred_raw)\n",
        "\n",
        "with open(\"colab_crnn_submission_raw.csv\", \"w\") as fp: \n",
        "    fp.write(\"Id,Predicted\\n\") \n",
        "    for idx in range(4512): \n",
        "        fp.write(f\"{idx},{y_pred_raw[idx][0]}\\n\") "
      ],
      "execution_count": null,
      "outputs": [
        {
          "output_type": "stream",
          "text": [
            "Shape X_test:  (4512, 40, 501)\n",
            "(4512, 40, 501)\n"
          ],
          "name": "stdout"
        }
      ]
    },
    {
      "cell_type": "code",
      "metadata": {
        "colab": {
          "base_uri": "https://localhost:8080/",
          "height": 441
        },
        "id": "SqrcYmUZvu71",
        "outputId": "da148613-ec5a-44f3-a96d-21709beaa119"
      },
      "source": [
        "plt.figure(figsize=(25,6))\n",
        "plt.hist(y_pred.ravel(), bins=200)\n",
        "plt.hist(y_pred_raw.ravel(), bins=200)\n",
        "plt.xticks([0, 0.01, 0.1, 0.2, 0.3, 0.4, 0.5, 0.6, 0.7, 0.8, 0.9, 0.995, 1.0])\n",
        "plt.grid(\"on\")\n",
        "plt.tight_layout()\n",
        "plt.show()"
      ],
      "execution_count": null,
      "outputs": [
        {
          "output_type": "display_data",
          "data": {
            "image/png": "[encoded data removed]",
            "text/plain": [
              "<Figure size 1800x432 with 1 Axes>"
            ]
          },
          "metadata": {
            "tags": [],
            "needs_background": "light"
          }
        }
      ]
    },
    {
      "cell_type": "markdown",
      "metadata": {
        "id": "2EJiVMW55XOA"
      },
      "source": [
        "Add data from raw file with prob < 0.01 and > 0.995.\n"
      ]
    }
  ]
}